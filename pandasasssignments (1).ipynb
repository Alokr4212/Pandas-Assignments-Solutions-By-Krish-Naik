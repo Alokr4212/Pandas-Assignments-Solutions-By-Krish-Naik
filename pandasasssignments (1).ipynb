{
 "cells": [
  {
   "cell_type": "markdown",
   "id": "c977a297",
   "metadata": {},
   "source": [
    "# Module: Pandas Assignments\n",
    "## Lesson: Pandas\n",
    "### Assignment 1: DataFrame Creation and Indexing\n",
    "\n",
    "1. Create a Pandas DataFrame with 4 columns and 6 rows filled with random integers. Set the index to be the first column.\n",
    "2. Create a Pandas DataFrame with columns 'A', 'B', 'C' and index 'X', 'Y', 'Z'. Fill the DataFrame with random integers and access the element at row 'Y' and column 'B'.\n",
    "\n",
    "### Assignment 2: DataFrame Operations\n",
    "\n",
    "1. Create a Pandas DataFrame with 3 columns and 5 rows filled with random integers. Add a new column that is the product of the first two columns.\n",
    "2. Create a Pandas DataFrame with 3 columns and 4 rows filled with random integers. Compute the row-wise and column-wise sum.\n",
    "\n",
    "### Assignment 3: Data Cleaning\n",
    "\n",
    "1. Create a Pandas DataFrame with 3 columns and 5 rows filled with random integers. Introduce some NaN values. Fill the NaN values with the mean of the respective columns.\n",
    "2. Create a Pandas DataFrame with 4 columns and 6 rows filled with random integers. Introduce some NaN values. Drop the rows with any NaN values.\n",
    "\n",
    "### Assignment 4: Data Aggregation\n",
    "\n",
    "1. Create a Pandas DataFrame with 2 columns: 'Category' and 'Value'. Fill the 'Category' column with random categories ('A', 'B', 'C') and the 'Value' column with random integers. Group the DataFrame by 'Category' and compute the sum and mean of 'Value' for each category.\n",
    "2. Create a Pandas DataFrame with 3 columns: 'Product', 'Category', and 'Sales'. Fill the DataFrame with random data. Group the DataFrame by 'Category' and compute the total sales for each category.\n",
    "\n",
    "### Assignment 5: Merging DataFrames\n",
    "\n",
    "1. Create two Pandas DataFrames with a common column. Merge the DataFrames using the common column.\n",
    "2. Create two Pandas DataFrames with different columns. Concatenate the DataFrames along the rows and along the columns.\n",
    "\n",
    "### Assignment 6: Time Series Analysis\n",
    "\n",
    "1. Create a Pandas DataFrame with a datetime index and one column filled with random integers. Resample the DataFrame to compute the monthly mean of the values.\n",
    "2. Create a Pandas DataFrame with a datetime index ranging from '2021-01-01' to '2021-12-31' and one column filled with random integers. Compute the rolling mean with a window of 7 days.\n",
    "\n",
    "### Assignment 7: MultiIndex DataFrame\n",
    "\n",
    "1. Create a Pandas DataFrame with a MultiIndex (hierarchical index). Perform some basic indexing and slicing operations on the MultiIndex DataFrame.\n",
    "2. Create a Pandas DataFrame with MultiIndex consisting of 'Category' and 'SubCategory'. Fill the DataFrame with random data and compute the sum of values for each 'Category' and 'SubCategory'.\n",
    "\n",
    "### Assignment 8: Pivot Tables\n",
    "\n",
    "1. Create a Pandas DataFrame with columns 'Date', 'Category', and 'Value'. Create a pivot table to compute the sum of 'Value' for each 'Category' by 'Date'.\n",
    "2. Create a Pandas DataFrame with columns 'Year', 'Quarter', and 'Revenue'. Create a pivot table to compute the mean 'Revenue' for each 'Quarter' by 'Year'.\n",
    "\n",
    "### Assignment 9: Applying Functions\n",
    "\n",
    "1. Create a Pandas DataFrame with 3 columns and 5 rows filled with random integers. Apply a function that doubles the values of the DataFrame.\n",
    "2. Create a Pandas DataFrame with 3 columns and 6 rows filled with random integers. Apply a lambda function to create a new column that is the sum of the existing columns.\n",
    "\n",
    "### Assignment 10: Working with Text Data\n",
    "\n",
    "1. Create a Pandas Series with 5 random text strings. Convert all the strings to uppercase.\n",
    "2. Create a Pandas Series with 5 random text strings. Extract the first three characters of each string.\n"
   ]
  },
  {
   "cell_type": "markdown",
   "id": "67287349-ac6c-402a-bc6a-09b25c04bca4",
   "metadata": {},
   "source": [
    "## Assignment 1: DataFrame Creation and Indexing"
   ]
  },
  {
   "cell_type": "markdown",
   "id": "00b5a613-c9ab-47e5-b996-cd2afd1e0169",
   "metadata": {},
   "source": [
    "1. Create a Pandas DataFrame with 4 columns and 6 rows filled with random integers. Set the index to be the first column."
   ]
  },
  {
   "cell_type": "code",
   "execution_count": 38,
   "id": "0a5a9e14-8a88-4d41-82b8-02bbbd734d3d",
   "metadata": {},
   "outputs": [
    {
     "name": "stdout",
     "output_type": "stream",
     "text": [
      "    A   B   C   D\n",
      "0  77  86  10  34\n",
      "1  55  41  96  61\n",
      "2  64  36  99  62\n",
      "3  47  52  12  31\n",
      "4  29   8  99  50\n",
      "5  49  87  91  44\n",
      "     B   C   D\n",
      "A             \n",
      "77  86  10  34\n",
      "55  41  96  61\n",
      "64  36  99  62\n",
      "47  52  12  31\n",
      "29   8  99  50\n",
      "49  87  91  44\n"
     ]
    }
   ],
   "source": [
    "import pandas as pd\n",
    "import numpy as np\n",
    "\n",
    "df = pd.DataFrame(np.random.randint(1,100, size = (6,4)), columns  = ['A','B','C','D'])\n",
    "print(df)\n",
    "\n",
    "# Set the index of the first column\n",
    "\n",
    "df.set_index('A', inplace = True)\n",
    "print(df)\n"
   ]
  },
  {
   "cell_type": "markdown",
   "id": "f49dad82-eb54-45ea-8bfd-a619315172e7",
   "metadata": {},
   "source": [
    "2. Create a Pandas DataFrame with columns 'A', 'B', 'C' and index 'X', 'Y', 'Z'. Fill the DataFrame with random integers and access the element at row 'Y' and column 'B'."
   ]
  },
  {
   "cell_type": "code",
   "execution_count": 19,
   "id": "d1a5b62d-8d5a-41fc-894e-366f2f92d9f3",
   "metadata": {},
   "outputs": [
    {
     "name": "stdout",
     "output_type": "stream",
     "text": [
      "    A   B   C\n",
      "X  34  75  80\n",
      "Y  15  28   4\n",
      "Z  35  62  66\n",
      "Element at Y row and B cloumn 28\n"
     ]
    }
   ],
   "source": [
    "import pandas as pd\n",
    "import numpy as np\n",
    "\n",
    "df  = pd.DataFrame(np.random.randint(1,100, size = (3,3)), columns = ['A','B','C'], index = ['X','Y','Z'])\n",
    "print(df)\n",
    "\n",
    "## Access the element at row 'Y' and column 'B'\n",
    "element = df.at['Y', 'B']\n",
    "print('Element at Y row and B cloumn', element)"
   ]
  },
  {
   "cell_type": "code",
   "execution_count": null,
   "id": "61e5b28e-6cb4-4350-8cc6-85ff6bd4fd79",
   "metadata": {},
   "outputs": [],
   "source": []
  },
  {
   "cell_type": "markdown",
   "id": "072be188-5b10-41e7-984f-73027b74ac62",
   "metadata": {},
   "source": [
    "## Assignment 2: DataFrame Operations"
   ]
  },
  {
   "cell_type": "markdown",
   "id": "ac8a46db-a69a-45bc-8b7a-4f59f677b345",
   "metadata": {},
   "source": [
    "1. Create a Pandas DataFrame with 3 columns and 5 rows filled with random integers. Add a new column that is the product of the first two columns."
   ]
  },
  {
   "cell_type": "code",
   "execution_count": 1,
   "id": "4bd903cf-5cd8-4263-9311-63e486e53967",
   "metadata": {},
   "outputs": [
    {
     "name": "stdout",
     "output_type": "stream",
     "text": [
      "    A   B   C\n",
      "0   6   3  72\n",
      "1  46  51  36\n",
      "2  50  51  56\n",
      "3  29  73  57\n",
      "4  82   1  75\n",
      "Add new cloumn that is the product of first two cloumn/n\n",
      "    A   B   C     D\n",
      "0   6   3  72    18\n",
      "1  46  51  36  2346\n",
      "2  50  51  56  2550\n",
      "3  29  73  57  2117\n",
      "4  82   1  75    82\n"
     ]
    }
   ],
   "source": [
    "import pandas as pd\n",
    "import numpy as np\n",
    "\n",
    "df = pd.DataFrame(np.random.randint(1,100, size=(5,3)), columns  = ['A','B','C'])\n",
    "print(df)\n",
    "\n",
    "# Add new cloumn that is the product of first two cloumn\n",
    "\n",
    "df['D'] = df['A'] * df['B']\n",
    "print('Add new cloumn that is the product of first two cloumn/n')\n",
    "print(df)"
   ]
  },
  {
   "cell_type": "markdown",
   "id": "21625f88-250b-4b9d-a04a-d6fea9febe96",
   "metadata": {},
   "source": [
    "2. Create a Pandas DataFrame with 3 columns and 4 rows filled with random integers. Compute the row-wise and column-wise sum."
   ]
  },
  {
   "cell_type": "code",
   "execution_count": 16,
   "id": "2233f42d-ea8f-4016-9f23-21cad6a508a6",
   "metadata": {},
   "outputs": [
    {
     "name": "stdout",
     "output_type": "stream",
     "text": [
      "    A   B   C\n",
      "0  81  26  66\n",
      "1   1  65  35\n",
      "2  87  15  15\n",
      "3  93  78  93\n",
      "row-wise sum\n",
      "0    173\n",
      "1    101\n",
      "2    117\n",
      "3    264\n",
      "dtype: int64\n",
      "cloumn-wise sum\n",
      "A    262\n",
      "B    184\n",
      "C    209\n",
      "dtype: int64\n"
     ]
    }
   ],
   "source": [
    "import pandas as pd\n",
    "import numpy as np\n",
    "\n",
    "df = pd.DataFrame(np.random.randint(1,100, size = (4,3)), columns = ['A','B','C'])\n",
    "print(df)\n",
    "\n",
    "# compute the row - wise and cloumn wise sum\n",
    "\n",
    "row_sum = df.sum(axis=1)                    # means “move horizontally” (left → right)\n",
    "cloumn_sum = df.sum(axis=0)                 # means “move vertically” (top → bottom)\n",
    "\n",
    "print('row-wise sum')\n",
    "print(row_sum)\n",
    "\n",
    "print('cloumn-wise sum')\n",
    "print(cloumn_sum)"
   ]
  },
  {
   "cell_type": "code",
   "execution_count": null,
   "id": "1d0f4b45-3d2f-41bf-bf2a-32ea5673eff1",
   "metadata": {},
   "outputs": [],
   "source": []
  },
  {
   "cell_type": "markdown",
   "id": "3a52f241-4f13-405b-aa29-eca5246e910f",
   "metadata": {},
   "source": [
    "## Assignment 3: Data Cleaning¶"
   ]
  },
  {
   "cell_type": "markdown",
   "id": "70582888-74eb-44b0-97ea-594fa61bca9c",
   "metadata": {},
   "source": [
    "1. Create a Pandas DataFrame with 3 columns and 5 rows filled with random integers. Introduce some NaN values. Fill the NaN values with the mean of the respective columns."
   ]
  },
  {
   "cell_type": "code",
   "execution_count": 27,
   "id": "9f9f6a01-00cd-4591-95fb-93e3e20c70f5",
   "metadata": {},
   "outputs": [
    {
     "name": "stdout",
     "output_type": "stream",
     "text": [
      "original dataframe\n",
      "    A   B   C\n",
      "0  76  15  51\n",
      "1  82  95  25\n",
      "2  97  45  46\n",
      "3  83  79  78\n",
      "4  77   6  44\n",
      "Data Frame with Nan Values\n",
      "      A     B     C\n",
      "0  76.0   NaN  51.0\n",
      "1  82.0  95.0  25.0\n",
      "2  97.0  45.0   NaN\n",
      "3  83.0  79.0  78.0\n",
      "4   NaN   6.0  44.0\n",
      "Data Frame with nan values\n",
      "      A      B     C\n",
      "0  76.0  56.25  51.0\n",
      "1  82.0  95.00  25.0\n",
      "2  97.0  45.00  49.5\n",
      "3  83.0  79.00  78.0\n",
      "4  84.5   6.00  44.0\n"
     ]
    }
   ],
   "source": [
    "import pandas as pd \n",
    "import numpy as np\n",
    "\n",
    "df = pd.DataFrame(np.random.randint(1,100, size = (5,3)), columns = ['A','B','C'])\n",
    "print('original dataframe')\n",
    "print(df)\n",
    "\n",
    "# Introduce some NaN values. \n",
    "\n",
    "df.iloc[0,1] = np.nan       # [row_indexer, cloumn_indexer]\n",
    "df.iloc[2,2] = np.nan\n",
    "df.iloc[4,0] = np.nan\n",
    "print('Data Frame with Nan Values')\n",
    "print(df)\n",
    "\n",
    "#Fill the NaN values with the mean of the respective columns.\n",
    "\n",
    "df.fillna(df.mean(), inplace = True)\n",
    "print('Data Frame with nan values')\n",
    "print(df)\n",
    "\n"
   ]
  },
  {
   "cell_type": "markdown",
   "id": "39103a57-8ec5-4421-9dd7-033052ad1d9c",
   "metadata": {},
   "source": [
    "2. Create a Pandas DataFrame with 4 columns and 6 rows filled with random integers. Introduce some NaN values. Drop the rows with any NaN values."
   ]
  },
  {
   "cell_type": "code",
   "execution_count": null,
   "id": "ef3ebf82-1432-4fe7-9ec3-65c8922a3d5f",
   "metadata": {},
   "outputs": [],
   "source": []
  },
  {
   "cell_type": "code",
   "execution_count": 34,
   "id": "a1529ada-e836-4dbe-98c0-a466522895d4",
   "metadata": {},
   "outputs": [
    {
     "name": "stdout",
     "output_type": "stream",
     "text": [
      "original data frame\n",
      "    A   B   C   D\n",
      "0  94  67  73  84\n",
      "1  34  49  71  96\n",
      "2  41  41  36  41\n",
      "3  61  45  47  46\n",
      "4   4   1  61   6\n",
      "5  64  39  66  16\n",
      "Dataframe with nan vlaues\n",
      "    A     B   C     D\n",
      "0  94  67.0  73  84.0\n",
      "1  34   NaN  71  96.0\n",
      "2  41  41.0  36   NaN\n",
      "3  61  45.0  47  46.0\n",
      "4   4   1.0  61   6.0\n",
      "5  64  39.0  66  16.0\n",
      "Dataframe with drop nan values\n",
      "    A     B   C     D\n",
      "0  94  67.0  73  84.0\n",
      "3  61  45.0  47  46.0\n",
      "4   4   1.0  61   6.0\n",
      "5  64  39.0  66  16.0\n"
     ]
    }
   ],
   "source": [
    "import pandas as pd\n",
    "import numpy as np\n",
    "\n",
    "df = pd.DataFrame(np.random.randint(1,100, size = (6,4)), columns =['A','B','C','D'])\n",
    "print('original data frame')\n",
    "print(df)\n",
    "\n",
    "# Introduce some NaN values\n",
    "\n",
    "df.iloc[1,1] = np.nan # [row_indexer, cloumn_indexer]\n",
    "df.iloc[2,3] = np.nan\n",
    "print('Dataframe with nan vlaues')\n",
    "print(df)\n",
    "\n",
    "# Drop the rows with any NaN values.\n",
    "\n",
    "df.dropna(inplace = True)\n",
    "print('Dataframe with drop nan values')\n",
    "print(df)"
   ]
  },
  {
   "cell_type": "code",
   "execution_count": null,
   "id": "73d5f616-42ea-4b0d-822e-63990b7190e1",
   "metadata": {},
   "outputs": [],
   "source": []
  },
  {
   "cell_type": "markdown",
   "id": "c018c57a-021e-42c5-97f9-01914ddc117d",
   "metadata": {},
   "source": [
    "## Assignment 4: Data Aggregation"
   ]
  },
  {
   "cell_type": "markdown",
   "id": "792873f8-c626-4ceb-8e99-b3bac9d0b374",
   "metadata": {},
   "source": [
    "1. Create a Pandas DataFrame with 2 columns: 'Category' and 'Value'. Fill the 'Category' column with random categories ('A', 'B', 'C') and the 'Value' column with random integers. Group the DataFrame by 'Category' and compute the sum and mean of 'Value' for each category."
   ]
  },
  {
   "cell_type": "code",
   "execution_count": 46,
   "id": "161692ee-4a7b-47c8-98fc-bb372b1d06b2",
   "metadata": {},
   "outputs": [
    {
     "name": "stdout",
     "output_type": "stream",
     "text": [
      "original Dataframe\n",
      "  category  value\n",
      "0        C     47\n",
      "1        A     68\n",
      "2        C     50\n",
      "3        d     83\n",
      "4        A     16\n",
      "5        d     79\n",
      "6        B     59\n",
      "7        A     95\n",
      "8        C     77\n",
      "9        d     80\n",
      "Groupby Dataframe\n",
      "          sum       mean\n",
      "category                \n",
      "A         179  59.666667\n",
      "B          59  59.000000\n",
      "C         174  58.000000\n",
      "d         242  80.666667\n"
     ]
    }
   ],
   "source": [
    "import pandas as pd\n",
    "import numpy as np\n",
    "\n",
    "df = pd.DataFrame({'category': np.random.choice(['A','B','C','d'], size = 10), 'value': np.random.randint(1,100, size = 10)})\n",
    "print('original Dataframe')\n",
    "print(df)\n",
    "\n",
    "# Group the DataFrame by 'Category' and compute the sum and mean of 'Value' for each category\n",
    "\n",
    "Grouped = df.groupby('category')['value'].agg(['sum','mean'])\n",
    "print(\"Groupby Dataframe\")\n",
    "print(Grouped)"
   ]
  },
  {
   "cell_type": "markdown",
   "id": "c2f8a8bc-3cb7-49cf-912e-cc9fdb873fd4",
   "metadata": {},
   "source": [
    "2. Create a Pandas DataFrame with 3 columns: 'Product', 'Category', and 'Sales'. Fill the DataFrame with random data. Group the DataFrame by 'Category' and compute the total sales for each category."
   ]
  },
  {
   "cell_type": "code",
   "execution_count": 53,
   "id": "c0f81022-b1ef-46d4-89a3-88651ce6a93f",
   "metadata": {},
   "outputs": [
    {
     "name": "stdout",
     "output_type": "stream",
     "text": [
      "original dataframe\n",
      "  product category  sales\n",
      "0   prod2        B     67\n",
      "1   prod1        B     92\n",
      "2   prod2        A     41\n",
      "3   prod2        A      4\n",
      "4   prod3        A     34\n",
      "5   prod3        B     23\n",
      "6   prod1        C     99\n",
      "7   prod3        A     94\n",
      "8   prod1        B     85\n",
      "9   prod2        C     47\n",
      "Group Dataframe\n",
      "category\n",
      "A    173\n",
      "B    267\n",
      "C    146\n",
      "Name: sales, dtype: int32\n"
     ]
    }
   ],
   "source": [
    "import pandas as pd \n",
    "import numpy as np\n",
    "\n",
    "df = pd.DataFrame({'product': np.random.choice(['prod1', 'prod2','prod3'], size =10), 'category': np.random.choice(['A','B','C'], size = 10), 'sales': np.random.randint(1,100,size = 10)})\n",
    "print('original dataframe')\n",
    "print(df)\n",
    "\n",
    "# Group the DataFrame by 'Category' and compute the total sales for each category.\n",
    "\n",
    "Grouped = df.groupby('category')['sales'].sum()\n",
    "print('Group Dataframe')\n",
    "print(Grouped)"
   ]
  },
  {
   "cell_type": "code",
   "execution_count": null,
   "id": "ae933f0b-dd6b-4a2c-a844-42936d352df3",
   "metadata": {},
   "outputs": [],
   "source": []
  },
  {
   "cell_type": "markdown",
   "id": "e8e05bd7-c995-41e8-bf36-e97d6852fe63",
   "metadata": {},
   "source": [
    "### Assignment 5: Merging DataFrames"
   ]
  },
  {
   "cell_type": "markdown",
   "id": "45292642-1cc7-4f89-ba17-351053adae86",
   "metadata": {},
   "source": [
    "1. Create two Pandas DataFrames with a common column. Merge the DataFrames using the common column."
   ]
  },
  {
   "cell_type": "code",
   "execution_count": 19,
   "id": "959b18e9-ba79-4dc7-a2e4-091f0631f6a5",
   "metadata": {},
   "outputs": [
    {
     "name": "stdout",
     "output_type": "stream",
     "text": [
      "  keys  values\n",
      "0    A      11\n",
      "1    B       1\n",
      "2    C      79\n",
      "3    D      90\n",
      "  keys  values\n",
      "0    A      70\n",
      "1    B      40\n",
      "2    C      24\n",
      "3    D      40\n",
      "  keys  values_x  values_y\n",
      "0    A        11        70\n",
      "1    B         1        40\n",
      "2    C        79        24\n",
      "3    D        90        40\n"
     ]
    }
   ],
   "source": [
    "import pandas as pd\n",
    "import numpy as np\n",
    "\n",
    "df1 = pd.DataFrame({'keys':['A','B','C','D'], 'values': np.random.randint(1,100, size = 4)})\n",
    "print(df1)\n",
    "\n",
    "df2 = pd.DataFrame({'keys':['A','B','C','D'], 'values': np.random.randint(1,100, size = 4)})\n",
    "print(df2)\n",
    "\n",
    "#  Merge the DataFrames using the common column.\n",
    "\n",
    "merged = pd.merge(df1, df2, on = 'keys')\n",
    "print(merged)\n"
   ]
  },
  {
   "cell_type": "markdown",
   "id": "9235f2f5-9eaf-4d9e-a54e-2c5acac0a0b2",
   "metadata": {},
   "source": [
    "2.Create two Pandas DataFrames with different columns. Concatenate the DataFrames along the rows and along the columns."
   ]
  },
  {
   "cell_type": "code",
   "execution_count": 27,
   "id": "c6c0dc1a-75c1-402a-8a98-81f258137c72",
   "metadata": {},
   "outputs": [
    {
     "name": "stdout",
     "output_type": "stream",
     "text": [
      "  keys  values\n",
      "0    A      15\n",
      "1    B      23\n",
      "2    C      40\n",
      "3    D      57\n",
      "  keys  values\n",
      "0    D      97\n",
      "1    E      12\n",
      "2    F      33\n",
      "3    G      39\n",
      "Concatenated DataFrame (rows):\n",
      "\n",
      "  keys  values\n",
      "0    A      15\n",
      "1    B      23\n",
      "2    C      40\n",
      "3    D      57\n",
      "0    D      97\n",
      "1    E      12\n",
      "2    F      33\n",
      "3    G      39\n",
      "Concatenated DataFrame (columns):\n",
      "\n",
      "  keys  values keys  values\n",
      "0    A      15    D      97\n",
      "1    B      23    E      12\n",
      "2    C      40    F      33\n",
      "3    D      57    G      39\n"
     ]
    }
   ],
   "source": [
    "import pandas as pd\n",
    "import numpy as np\n",
    "\n",
    "df1 = pd.DataFrame({'keys':['A','B','C','D'], 'values': np.random.randint(1,100, size = 4)})\n",
    "print(df1)\n",
    "\n",
    "df2 = pd.DataFrame({'keys':['D','E','F','G'], 'values': np.random.randint(1,100, size = 4)})\n",
    "print(df2)\n",
    "\n",
    "\n",
    "# Concatenate the DataFrames along the columns\n",
    "\n",
    "concat_rows = pd.concat([df1, df2], axis=0)\n",
    "print(\"Concatenated DataFrame (rows):\\n\")\n",
    "print(concat_rows)\n",
    "\n",
    "# Concatenate the DataFrames along the columns\n",
    "\n",
    "concat_columns = pd.concat([df1, df2], axis=1)\n",
    "print(\"Concatenated DataFrame (columns):\\n\")\n",
    "print(concat_columns)\n"
   ]
  },
  {
   "cell_type": "code",
   "execution_count": null,
   "id": "0c71d2ce-29f1-45df-a7b5-7b7cf5130b6c",
   "metadata": {},
   "outputs": [],
   "source": []
  },
  {
   "cell_type": "markdown",
   "id": "0c475cae-2100-4c61-bd7c-5672d2e2ceb5",
   "metadata": {},
   "source": [
    "## Assignment6 : Working with Text Data (It is 10)\n",
    "\n",
    "1. Create a Pandas Series with 5 random text strings. Convert all the strings to uppercase."
   ]
  },
  {
   "cell_type": "code",
   "execution_count": 29,
   "id": "46492c43-15e4-4426-a88a-1aaabdd9762a",
   "metadata": {},
   "outputs": [
    {
     "name": "stdout",
     "output_type": "stream",
     "text": [
      "orginal series\n",
      "\n",
      "0        Apple\n",
      "1       Orange\n",
      "2       Banana\n",
      "3         Kiwi\n",
      "4    Cranberry\n",
      "dtype: object\n",
      "uppercase string\n",
      "\n",
      "0        APPLE\n",
      "1       ORANGE\n",
      "2       BANANA\n",
      "3         KIWI\n",
      "4    CRANBERRY\n",
      "dtype: object\n"
     ]
    }
   ],
   "source": [
    "import pandas as pd\n",
    "\n",
    "# Create a Pandas Series with 5 random text strings\n",
    "\n",
    "df = pd.Series(['Apple','Orange','Banana','Kiwi','Cranberry'])\n",
    "print('orginal series\\n')\n",
    "print(df)\n",
    "\n",
    "# Convert all the strings to uppercase\n",
    "\n",
    "uppercase = df.str.upper()\n",
    "print('uppercase string\\n')\n",
    "print(uppercase)"
   ]
  },
  {
   "cell_type": "markdown",
   "id": "9240551f-dc74-402e-bc47-75c2b7a34338",
   "metadata": {},
   "source": [
    "2.Create a Pandas Series with 5 random text strings. Extract the first three characters of each string."
   ]
  },
  {
   "cell_type": "code",
   "execution_count": 38,
   "id": "04774d01-1fe0-4ebb-a3bf-09b0a32b28ff",
   "metadata": {},
   "outputs": [
    {
     "name": "stdout",
     "output_type": "stream",
     "text": [
      "original series\n",
      "0        apple\n",
      "1       Orange\n",
      "2       banana\n",
      "3         kiwi\n",
      "4    Cranberry\n",
      "dtype: object\n",
      "first three character\n",
      "\n",
      "0    app\n",
      "1    Ora\n",
      "2    ban\n",
      "3    kiw\n",
      "4    Cra\n",
      "dtype: object\n"
     ]
    }
   ],
   "source": [
    "import pandas as pd\n",
    "\n",
    "# Create a Pandas Series with 5 random text strings\n",
    "\n",
    "df = pd.Series(['apple','Orange','banana','kiwi','Cranberry'])\n",
    "print('original series')\n",
    "print(df)\n",
    "\n",
    "# Extract the first three characters of each string\n",
    "first_three = df.str[0:3]\n",
    "print('first three character\\n')\n",
    "print(first_three)"
   ]
  },
  {
   "cell_type": "code",
   "execution_count": null,
   "id": "c239fcce-c1ca-4ff1-98ab-02d8ff33eecc",
   "metadata": {},
   "outputs": [],
   "source": []
  },
  {
   "cell_type": "markdown",
   "id": "19963cc1-9a1b-48e3-9e3d-73f8aa46bb47",
   "metadata": {},
   "source": [
    "### Assignment 7: Applying Functions (It is 9)\n",
    "\n",
    "1. Create a Pandas DataFrame with 3 columns and 5 rows filled with random integers. Apply a function that doubles the values of the DataFrame."
   ]
  },
  {
   "cell_type": "code",
   "execution_count": 49,
   "id": "0b244016-c2fb-47b4-8f00-156645193fe4",
   "metadata": {},
   "outputs": [
    {
     "name": "stdout",
     "output_type": "stream",
     "text": [
      "original Dataframe\n",
      "    A   B   C\n",
      "0  48  45  10\n",
      "1   2  72  25\n",
      "2  50  68  36\n",
      "3  68  85   4\n",
      "4  19  38  80\n",
      "double the values\n",
      "\n",
      "     A    B    C\n",
      "0   96   90   20\n",
      "1    4  144   50\n",
      "2  100  136   72\n",
      "3  136  170    8\n",
      "4   38   76  160\n",
      "second method double the value\n",
      "\n",
      "     A    B    C\n",
      "0   96   90   20\n",
      "1    4  144   50\n",
      "2  100  136   72\n",
      "3  136  170    8\n",
      "4   38   76  160\n"
     ]
    }
   ],
   "source": [
    "import pandas as pd\n",
    "import numpy as np\n",
    "\n",
    "df = pd.DataFrame(np.random.randint(1, 100 , size=(5,3)), columns = ['A','B','C'])\n",
    "print('original Dataframe')\n",
    "print(df)\n",
    "\n",
    "# Apply a function that doubles the values of the DataFrame\n",
    "\n",
    "doubled_value = df*2             # this is the one method\n",
    "print('double the values\\n')\n",
    "print(doubled_value)\n",
    "\n",
    "# This is using lambda\n",
    "\n",
    "double_value = df.apply(lambda x : x*2)\n",
    "print('second method double the value\\n')\n",
    "print(double_value)"
   ]
  },
  {
   "cell_type": "code",
   "execution_count": null,
   "id": "55007e7f-cbba-4092-a5cf-776132045287",
   "metadata": {},
   "outputs": [],
   "source": []
  }
 ],
 "metadata": {
  "kernelspec": {
   "display_name": "Python 3 (ipykernel)",
   "language": "python",
   "name": "python3"
  },
  "language_info": {
   "codemirror_mode": {
    "name": "ipython",
    "version": 3
   },
   "file_extension": ".py",
   "mimetype": "text/x-python",
   "name": "python",
   "nbconvert_exporter": "python",
   "pygments_lexer": "ipython3",
   "version": "3.12.7"
  }
 },
 "nbformat": 4,
 "nbformat_minor": 5
}
